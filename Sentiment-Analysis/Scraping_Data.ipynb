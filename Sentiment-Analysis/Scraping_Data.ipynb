{
 "cells": [
  {
   "cell_type": "markdown",
   "metadata": {
    "id": "DUMQ5u1ZnIMR"
   },
   "source": [
    "# **ANALISIS SENTIMEN PENGGUNA TERHADAP APLIKASI BRIMO BRI DI PLAY STORE**"
   ]
  },
  {
   "cell_type": "markdown",
   "metadata": {
    "id": "2AONTWl1nzWZ"
   },
   "source": [
    "## **1. Scraping Data**"
   ]
  },
  {
   "cell_type": "markdown",
   "metadata": {
    "id": "Bqr9MQcioJYW"
   },
   "source": [
    "### 1.1 Instalasi Library"
   ]
  },
  {
   "cell_type": "code",
   "execution_count": 5,
   "metadata": {
    "colab": {
     "base_uri": "https://localhost:8080/"
    },
    "editable": true,
    "id": "c1nycIDbmHIm",
    "outputId": "d311924a-4cfc-4416-e34b-d2403c70c541",
    "slideshow": {
     "slide_type": ""
    },
    "tags": []
   },
   "outputs": [
    {
     "name": "stdout",
     "output_type": "stream",
     "text": [
      "Requirement already satisfied: google-play-scraper in /home/multimediary/anaconda3/envs/jupyter/lib/python3.10/site-packages (1.2.7)\n"
     ]
    }
   ],
   "source": [
    "!pip install google-play-scraper"
   ]
  },
  {
   "cell_type": "markdown",
   "metadata": {
    "id": "LMIC1UzHsEWP"
   },
   "source": [
    "### 1.2 Impor Library"
   ]
  },
  {
   "cell_type": "code",
   "execution_count": 6,
   "metadata": {
    "id": "pOWb-ZK4sIj7"
   },
   "outputs": [],
   "source": [
    "from google_play_scraper import Sort, reviews_all\n",
    "import csv"
   ]
  },
  {
   "cell_type": "markdown",
   "metadata": {
    "id": "4jeBTg6euI8Q"
   },
   "source": [
    "### 1.3 Scrap Review"
   ]
  },
  {
   "cell_type": "code",
   "execution_count": 7,
   "metadata": {
    "id": "xrdzN_YFsccb"
   },
   "outputs": [],
   "source": [
    "# Mengambil semua ulasan\n",
    "scrapreview = reviews_all(\n",
    "    'id.co.bri.brimo',\n",
    "    lang='id',\n",
    "    country='id',\n",
    "    sort=Sort.MOST_RELEVANT,\n",
    "    count=150000\n",
    ")\n",
    "\n",
    "# Membatasi jumlah ulasan yang diambil sebanyak 150rb data\n",
    "scrapreview_limited = scrapreview[:150000]"
   ]
  },
  {
   "cell_type": "markdown",
   "metadata": {
    "id": "dmnk7dHRu069"
   },
   "source": [
    "### 1.4 Simpan Dataset (.csv)"
   ]
  },
  {
   "cell_type": "code",
   "execution_count": 8,
   "metadata": {
    "colab": {
     "base_uri": "https://localhost:8080/"
    },
    "editable": true,
    "id": "BOYZpXALu3j1",
    "outputId": "70e64881-c7b4-4b49-af26-4bdfe3a80ee8",
    "slideshow": {
     "slide_type": ""
    },
    "tags": []
   },
   "outputs": [
    {
     "name": "stdout",
     "output_type": "stream",
     "text": [
      "Data telah disimpan ke hasil_screeping_brimo.csv\n"
     ]
    }
   ],
   "source": [
    "# Menulis ulasan ke file CSV dengan semua informasi\n",
    "with open('hasil_screeping_brimo.csv', mode='w', newline='', encoding='utf-8') as file:\n",
    "    writer = csv.writer(file)\n",
    "    # Menulis header CSV\n",
    "    writer.writerow(['content','score'])\n",
    "\n",
    "    # Menulis setiap ulasan ke dalam file CSV\n",
    "    for review in scrapreview_limited:\n",
    "        writer.writerow([\n",
    "            review['content'],\n",
    "            review.get('score', '')\n",
    "        ])\n",
    "\n",
    "print(\"Data telah disimpan ke hasil_screeping_brimo.csv\")"
   ]
  }
 ],
 "metadata": {
  "colab": {
   "provenance": []
  },
  "kernelspec": {
   "display_name": "Python 3 (ipykernel)",
   "language": "python",
   "name": "python3"
  },
  "language_info": {
   "codemirror_mode": {
    "name": "ipython",
    "version": 3
   },
   "file_extension": ".py",
   "mimetype": "text/x-python",
   "name": "python",
   "nbconvert_exporter": "python",
   "pygments_lexer": "ipython3",
   "version": "3.10.14"
  }
 },
 "nbformat": 4,
 "nbformat_minor": 4
}
